{
 "cells": [
  {
   "cell_type": "code",
   "execution_count": 1,
   "metadata": {},
   "outputs": [],
   "source": [
    "import numpy as np\n",
    "import matplotlib.pyplot as plt\n",
    "import sklearn as sk\n",
    "import scipy.optimize as spo"
   ]
  },
  {
   "cell_type": "code",
   "execution_count": 124,
   "metadata": {},
   "outputs": [],
   "source": [
    "### Markowitz portfolio optimization\n",
    "class Markowitz:\n",
    "    \"\"\"\n",
    "    Returns the optimal portfolio weights and the corresponding Sharpe ratio.\n",
    "    Reference: https://ocw.mit.edu/courses/18-s096-topics-in-mathematics-with-applications-in-finance-fall-2013/resources/mit18_s096f13_lecnote14/\n",
    "    Returns: Must have at least 2 assets each with at least 2 returns listed.\n",
    "    Return period: >= 2, 12 for monthly, 52 for weekly, 252 for yearly.\n",
    "    \"\"\"\n",
    "    def __init__(self, returns: list, return_period: int):\n",
    "        self.UNIFORM_WEIGHTS = np.ones(len(returns)) / len(returns)\n",
    "        self.RETURNS = np.asarray(returns).copy()\n",
    "        self.FREQUENCY = return_period\n",
    "        self.COV = np.cov(self.RETURNS)\n",
    "    \n",
    "    def _neg_sharpe_ratio(self, weights: list, risk_free_rate: float = 0.0):\n",
    "        \"\"\"\n",
    "        Returns the Sharpe ratio of the portfolio.\n",
    "        \"\"\"\n",
    "        expected_return = np.sum(np.dot(weights, self.RETURNS))*self.FREQUENCY\n",
    "        standard_deviation = np.sqrt(np.dot(weights, np.dot(self.COV, weights)))*np.sqrt(self.FREQUENCY)\n",
    "        return (expected_return - risk_free_rate) / standard_deviation\n",
    "    \n",
    "    def _variance(self, weights: list):\n",
    "        \"\"\"\n",
    "        Returns the variance of the portfolio.\n",
    "        \"\"\"\n",
    "        return np.dot(weights.T, np.dot(self.COV, weights))\n",
    "\n",
    "    # Return Maximization\n",
    "    def max_sharpe(self, risk_free_rate: float = 0.0, weight_constraint: tuple = (0,1)):\n",
    "        \"\"\"\n",
    "        Returns the optimal portfolio weights and the corresponding Sharpe ratio.\n",
    "        Use the negative Sharpe ratio as the objective function to be minimized.\n",
    "        \"\"\"\n",
    "        init_weights = self.UNIFORM_WEIGHTS\n",
    "        method='SLSQP'\n",
    "        bounds=[weight_constraint] * len(self.RETURNS)\n",
    "        constraints={'type': 'eq', 'fun': lambda x: np.sum(x) - 1}\n",
    "        args = (risk_free_rate)\n",
    "        # minimize the negative Sharpe ratio\n",
    "        result = spo.minimize(self._neg_sharpe_ratio, init_weights, method=method, bounds=bounds, constraints=constraints, args=args)\n",
    "        # weights, Sharpe ratio\n",
    "        return result.x, -result.fun, result.success\n",
    "        \n",
    "    # Risk Minimization\n",
    "    def min_variance(self, weight_constraint: tuple = (0,1)):\n",
    "        \"\"\"\n",
    "        Returns the optimal portfolio weights and the corresponding variance.\n",
    "        Use the variance as the objective function to be minimized.\n",
    "        \"\"\"\n",
    "        # minimize the variance\n",
    "        init_weights = self.UNIFORM_WEIGHTS\n",
    "        method='SLSQP'\n",
    "        bounds=[weight_constraint] * len(self.RETURNS)\n",
    "        # , 'type': 'eq', 'fun': lambda x: np.dot(x, self.RETURNS) - target_return\n",
    "        constraints={'type': 'eq', 'fun': lambda x: np.sum(x) - 1}\n",
    "        result = spo.minimize(self._variance, init_weights, method=method, bounds=bounds, constraints=constraints)\n",
    "        print(\"result.x\", result.x)\n",
    "        # weights, variance\n",
    "        return result.x, result.fun, result.success\n",
    "        \n"
   ]
  },
  {
   "cell_type": "code",
   "execution_count": 127,
   "metadata": {},
   "outputs": [
    {
     "name": "stdout",
     "output_type": "stream",
     "text": [
      "Status:  True\n",
      "Weights:  [1.00000000e+00 2.73409073e-12 1.68314251e-11 0.00000000e+00\n",
      " 3.69343445e-12]\n",
      "Sharpe Ratio:  -6.000000000139668\n",
      "result.x [0.0297619  0.20436508 0.33531746 0.20436508 0.22619048]\n",
      "Status:  True\n",
      "Weights:  [0.0297619  0.20436508 0.33531746 0.20436508 0.22619048]\n",
      "Variance:  7.688961175772845e-20\n"
     ]
    }
   ],
   "source": [
    "# test max sharpe\n",
    "returns =[[0.1, 0.2], [0.15 ,0.17], [0.12,0.08], [0.09,0.11], [0.13,0.14]]\n",
    "markowitz= Markowitz(returns, 2)\n",
    "weights1, sharpe_ratio, status1 = markowitz.max_sharpe()\n",
    "print(\"Status: \", status1)\n",
    "print('Weights: ', weights1)\n",
    "print('Sharpe Ratio: ', sharpe_ratio)\n",
    "\n",
    "# test min variance\n",
    "weights2, variance, status2 = markowitz.min_variance()\n",
    "print(\"Status: \", status2)\n",
    "print('Weights: ', weights2)\n",
    "print('Variance: ', variance)\n"
   ]
  },
  {
   "cell_type": "code",
   "execution_count": 126,
   "metadata": {},
   "outputs": [
    {
     "name": "stdout",
     "output_type": "stream",
     "text": [
      "cov [[0.02    0.017   0.008   0.011   0.014  ]\n",
      " [0.017   0.01445 0.0068  0.00935 0.0119 ]\n",
      " [0.008   0.0068  0.0032  0.0044  0.0056 ]\n",
      " [0.011   0.00935 0.0044  0.00605 0.0077 ]\n",
      " [0.014   0.0119  0.0056  0.0077  0.0098 ]]\n",
      "w [0.2, 0.2, 0.2, 0.2, 0.2]\n"
     ]
    }
   ],
   "source": [
    "x =[[0, 0.2], [0 ,0.17], [0,0.08], [0,0.11], [0,0.14]]\n",
    "w = [1/len(x)]*len(x)\n",
    "cov = np.cov(x)\n",
    "print(\"cov\", cov)\n",
    "print(\"w\", w)"
   ]
  }
 ],
 "metadata": {
  "kernelspec": {
   "display_name": "torch-3.10",
   "language": "python",
   "name": "python3"
  },
  "language_info": {
   "codemirror_mode": {
    "name": "ipython",
    "version": 3
   },
   "file_extension": ".py",
   "mimetype": "text/x-python",
   "name": "python",
   "nbconvert_exporter": "python",
   "pygments_lexer": "ipython3",
   "version": "3.10.11"
  },
  "orig_nbformat": 4
 },
 "nbformat": 4,
 "nbformat_minor": 2
}
