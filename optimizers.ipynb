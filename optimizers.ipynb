{
 "cells": [
  {
   "cell_type": "code",
   "execution_count": 61,
   "metadata": {},
   "outputs": [],
   "source": [
    "import numpy as np\n",
    "import matplotlib.pyplot as plt\n",
    "import sklearn as sk\n",
    "import scipy.optimize as spo"
   ]
  },
  {
   "cell_type": "code",
   "execution_count": 69,
   "metadata": {},
   "outputs": [],
   "source": [
    "### Markowitz portfolio optimization\n",
    "class Markowitz:\n",
    "    \"\"\"\n",
    "    Returns the optimal portfolio weights and the corresponding Sharpe ratio.\n",
    "    Reference: https://ocw.mit.edu/courses/18-s096-topics-in-mathematics-with-applications-in-finance-fall-2013/resources/mit18_s096f13_lecnote14/\n",
    "    \"\"\"\n",
    "    def __init__(self, returns: list, frequency: int = 1):\n",
    "        self.UNIFORM_WEIGHTS = np.ones(len(returns)) / len(returns)\n",
    "        self.RETURNS = np.asarray(returns).copy()\n",
    "        self.FREQUENCY = frequency\n",
    "        self.COV = np.cov(self.RETURNS)\n",
    "    \n",
    "    def _neg_sharpe_ratio(self, weights: list, risk_free_rate: float = 0.0):\n",
    "        \"\"\"\n",
    "        Returns the Sharpe ratio of the portfolio.\n",
    "        \"\"\"\n",
    "        expected_return = np.dot(weights, self.RETURNS)\n",
    "        standard_deviation = np.sqrt(np.dot(weights, np.dot(self.COV, weights)))*np.sqrt(self.FREQUENCY)\n",
    "        return (expected_return - risk_free_rate) / standard_deviation\n",
    "    \n",
    "    def _variance(self, weights: list):\n",
    "        \"\"\"\n",
    "        Returns the variance of the portfolio.\n",
    "        \"\"\"\n",
    "        return np.dot(weights, np.dot(self.COV, weights))\n",
    "\n",
    "    # Return Maximization\n",
    "    def max_sharpe(self, risk_free_rate: float = 0.0, weight_constraint: tuple = (0,1)):\n",
    "        \"\"\"\n",
    "        Returns the optimal portfolio weights and the corresponding Sharpe ratio.\n",
    "        Use the negative Sharpe ratio as the objective function to be minimized.\n",
    "        \"\"\"\n",
    "        # minimize the negative Sharpe ratio\n",
    "        result = spo.minimize(self._neg_sharpe_ratio, self.UNIFORM_WEIGHTS, method='SLSQP', bounds=[weight_constraint] * len(self.RETURNS), constraints={'type': 'eq', 'fun': lambda x: np.sum(x) - 1})\n",
    "        # weights, Sharpe ratio\n",
    "        return result.x, -result.fun\n",
    "        \n",
    "    # Risk Minimization\n",
    "    def min_variance(self, target_return: float):\n",
    "        return self._variance(self.UNIFORM_WEIGHTS)\n",
    "        \n"
   ]
  },
  {
   "cell_type": "code",
   "execution_count": 73,
   "metadata": {},
   "outputs": [
    {
     "name": "stdout",
     "output_type": "stream",
     "text": [
      "Weights:  [7.27581707e-12 1.25579828e-12 4.25917510e-12 3.04738240e-12\n",
      " 6.07579609e-12 1.00000000e+00 3.73522047e-12 6.67552738e-12\n",
      " 5.46875419e-12 4.86209859e-12]\n",
      "Sharpe Ratio:  -2.147484424179913\n"
     ]
    }
   ],
   "source": [
    "# test max sharpe\n",
    "returns = [0.1, 0.2, 0.15, 0.17, 0.12, 0.08, 0.09, 0.11, 0.13, 0.14]\n",
    "markowitz= Markowitz(returns)\n",
    "weights, sharpe_ratio = markowitz.max_sharpe()\n",
    "print('Weights: ', weights)\n",
    "print('Sharpe Ratio: ', sharpe_ratio)"
   ]
  },
  {
   "cell_type": "code",
   "execution_count": 52,
   "metadata": {},
   "outputs": [
    {
     "name": "stdout",
     "output_type": "stream",
     "text": [
      "[0.06080252 0.12930597 0.05751051 0.06610541 0.0720474  0.15935575\n",
      " 0.05605361 0.20523111 0.08627351 0.10731421]\n"
     ]
    }
   ],
   "source": []
  }
 ],
 "metadata": {
  "kernelspec": {
   "display_name": "torch-3.10",
   "language": "python",
   "name": "python3"
  },
  "language_info": {
   "codemirror_mode": {
    "name": "ipython",
    "version": 3
   },
   "file_extension": ".py",
   "mimetype": "text/x-python",
   "name": "python",
   "nbconvert_exporter": "python",
   "pygments_lexer": "ipython3",
   "version": "3.10.11"
  },
  "orig_nbformat": 4
 },
 "nbformat": 4,
 "nbformat_minor": 2
}
